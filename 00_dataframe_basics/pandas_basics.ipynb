{
 "cells": [
  {
   "cell_type": "code",
   "execution_count": 55,
   "id": "725f0546-2001-462b-acf6-413a1287ee72",
   "metadata": {},
   "outputs": [],
   "source": [
    "import pandas as pd\n",
    "import numpy as np\n",
    "import matplotlib.pyplot as plt\n",
    "%matplotlib inline"
   ]
  },
  {
   "cell_type": "markdown",
   "id": "28ff3123-2640-4c21-905a-86d6b1b83f2c",
   "metadata": {},
   "source": [
    "## Creating Dataframe"
   ]
  },
  {
   "cell_type": "code",
   "execution_count": 56,
   "id": "1238dc83-d191-44f2-822a-8a5bd9070ec6",
   "metadata": {},
   "outputs": [
    {
     "data": {
      "text/html": [
       "<div>\n",
       "<style scoped>\n",
       "    .dataframe tbody tr th:only-of-type {\n",
       "        vertical-align: middle;\n",
       "    }\n",
       "\n",
       "    .dataframe tbody tr th {\n",
       "        vertical-align: top;\n",
       "    }\n",
       "\n",
       "    .dataframe thead th {\n",
       "        text-align: right;\n",
       "    }\n",
       "</style>\n",
       "<table border=\"1\" class=\"dataframe\">\n",
       "  <thead>\n",
       "    <tr style=\"text-align: right;\">\n",
       "      <th></th>\n",
       "      <th>Name</th>\n",
       "      <th>Age</th>\n",
       "      <th>Gender</th>\n",
       "      <th>Profession</th>\n",
       "      <th>Location</th>\n",
       "    </tr>\n",
       "  </thead>\n",
       "  <tbody>\n",
       "    <tr>\n",
       "      <th>0</th>\n",
       "      <td>Arun</td>\n",
       "      <td>25.0</td>\n",
       "      <td>Male</td>\n",
       "      <td>Engineer</td>\n",
       "      <td>Chennai</td>\n",
       "    </tr>\n",
       "    <tr>\n",
       "      <th>1</th>\n",
       "      <td>Vijay</td>\n",
       "      <td>20.0</td>\n",
       "      <td>Male</td>\n",
       "      <td>Doctor</td>\n",
       "      <td>Bangalore</td>\n",
       "    </tr>\n",
       "    <tr>\n",
       "      <th>2</th>\n",
       "      <td>Priya</td>\n",
       "      <td>18.0</td>\n",
       "      <td>Female</td>\n",
       "      <td>Teacher</td>\n",
       "      <td>Mumabai</td>\n",
       "    </tr>\n",
       "    <tr>\n",
       "      <th>3</th>\n",
       "      <td>Kumar</td>\n",
       "      <td>19.0</td>\n",
       "      <td>Male ee</td>\n",
       "      <td>Scientist</td>\n",
       "      <td>Delhi</td>\n",
       "    </tr>\n",
       "    <tr>\n",
       "      <th>4</th>\n",
       "      <td>Selvi</td>\n",
       "      <td>35.0</td>\n",
       "      <td>Female</td>\n",
       "      <td>Business</td>\n",
       "      <td>Madurai</td>\n",
       "    </tr>\n",
       "    <tr>\n",
       "      <th>5</th>\n",
       "      <td>Kalaiyarasan</td>\n",
       "      <td>23.0</td>\n",
       "      <td>Male ee</td>\n",
       "      <td>Engineer</td>\n",
       "      <td>Chennai</td>\n",
       "    </tr>\n",
       "    <tr>\n",
       "      <th>6</th>\n",
       "      <td>Sukumar</td>\n",
       "      <td>45.0</td>\n",
       "      <td>Male</td>\n",
       "      <td>Engineer</td>\n",
       "      <td>Bangalore</td>\n",
       "    </tr>\n",
       "    <tr>\n",
       "      <th>7</th>\n",
       "      <td>Vignesh</td>\n",
       "      <td>NaN</td>\n",
       "      <td>Male</td>\n",
       "      <td>Lawyer</td>\n",
       "      <td>Pune</td>\n",
       "    </tr>\n",
       "    <tr>\n",
       "      <th>8</th>\n",
       "      <td>Ramya</td>\n",
       "      <td>16.0</td>\n",
       "      <td>Female</td>\n",
       "      <td>Auditor</td>\n",
       "      <td>Chennai</td>\n",
       "    </tr>\n",
       "    <tr>\n",
       "      <th>9</th>\n",
       "      <td>Muthu</td>\n",
       "      <td>40.0</td>\n",
       "      <td>Male ee</td>\n",
       "      <td>Engineer</td>\n",
       "      <td>Trichy</td>\n",
       "    </tr>\n",
       "  </tbody>\n",
       "</table>\n",
       "</div>"
      ],
      "text/plain": [
       "           Name   Age   Gender Profession   Location\n",
       "0          Arun  25.0     Male   Engineer    Chennai\n",
       "1         Vijay  20.0     Male     Doctor  Bangalore\n",
       "2         Priya  18.0   Female    Teacher    Mumabai\n",
       "3         Kumar  19.0  Male ee  Scientist      Delhi\n",
       "4         Selvi  35.0   Female   Business    Madurai\n",
       "5  Kalaiyarasan  23.0  Male ee   Engineer    Chennai\n",
       "6       Sukumar  45.0     Male   Engineer  Bangalore\n",
       "7       Vignesh   NaN     Male     Lawyer       Pune\n",
       "8         Ramya  16.0   Female    Auditor    Chennai\n",
       "9         Muthu  40.0  Male ee   Engineer     Trichy"
      ]
     },
     "execution_count": 56,
     "metadata": {},
     "output_type": "execute_result"
    }
   ],
   "source": [
    "df = pd.DataFrame({\n",
    "    'Name': ['Arun', 'Vijay', 'Priya', 'Kumar', 'Selvi', 'Kalaiyarasan', 'Sukumar', 'Vignesh', 'Ramya', 'Muthu'],\n",
    "    'Age':[25, 20, 18, 19, 35, 23, 45, None, 16, 40],\n",
    "    'Gender': ['Male', 'Male', 'Female', 'Male ee', 'Female', 'Male ee', 'Male', 'Male', 'Female', 'Male ee'],\n",
    "    'Profession': ['Engineer', 'Doctor', 'Teacher', 'Scientist', 'Business', 'Engineer', 'Engineer', 'Lawyer', 'Auditor', 'Engineer'],\n",
    "    'Location': ['Chennai', 'Bangalore', 'Mumabai', 'Delhi', 'Madurai', 'Chennai', 'Bangalore' , 'Pune', 'Chennai', 'Trichy']\n",
    "})\n",
    "df"
   ]
  },
  {
   "cell_type": "markdown",
   "id": "94fd74d6-3c57-42ca-a52b-7e74a931ba7e",
   "metadata": {},
   "source": [
    "## Summary of a DataFrame"
   ]
  },
  {
   "cell_type": "code",
   "execution_count": 57,
   "id": "bad0095f-8a6e-45f5-affe-2653b2bba711",
   "metadata": {
    "scrolled": true
   },
   "outputs": [
    {
     "name": "stdout",
     "output_type": "stream",
     "text": [
      "<class 'pandas.core.frame.DataFrame'>\n",
      "RangeIndex: 10 entries, 0 to 9\n",
      "Data columns (total 5 columns):\n",
      " #   Column      Non-Null Count  Dtype  \n",
      "---  ------      --------------  -----  \n",
      " 0   Name        10 non-null     object \n",
      " 1   Age         9 non-null      float64\n",
      " 2   Gender      10 non-null     object \n",
      " 3   Profession  10 non-null     object \n",
      " 4   Location    10 non-null     object \n",
      "dtypes: float64(1), object(4)\n",
      "memory usage: 532.0+ bytes\n"
     ]
    }
   ],
   "source": [
    "df.info()"
   ]
  },
  {
   "cell_type": "markdown",
   "id": "c1a2ff3f-003c-4996-8866-3cf38c202040",
   "metadata": {},
   "source": [
    "## Dimentions of a DataFrame"
   ]
  },
  {
   "cell_type": "code",
   "execution_count": 58,
   "id": "98042a0b-256a-42ba-b347-bdf2307f5721",
   "metadata": {},
   "outputs": [
    {
     "data": {
      "text/plain": [
       "(10, 5)"
      ]
     },
     "execution_count": 58,
     "metadata": {},
     "output_type": "execute_result"
    }
   ],
   "source": [
    "df.shape"
   ]
  },
  {
   "cell_type": "markdown",
   "id": "61b9228e-e9fd-4640-b936-064bdaec7aa4",
   "metadata": {},
   "source": [
    "## Display first 5 rows of a DataFrame"
   ]
  },
  {
   "cell_type": "code",
   "execution_count": 59,
   "id": "ad0f7e3e-3521-4d36-b2d7-81746ac63faa",
   "metadata": {},
   "outputs": [
    {
     "data": {
      "text/html": [
       "<div>\n",
       "<style scoped>\n",
       "    .dataframe tbody tr th:only-of-type {\n",
       "        vertical-align: middle;\n",
       "    }\n",
       "\n",
       "    .dataframe tbody tr th {\n",
       "        vertical-align: top;\n",
       "    }\n",
       "\n",
       "    .dataframe thead th {\n",
       "        text-align: right;\n",
       "    }\n",
       "</style>\n",
       "<table border=\"1\" class=\"dataframe\">\n",
       "  <thead>\n",
       "    <tr style=\"text-align: right;\">\n",
       "      <th></th>\n",
       "      <th>Name</th>\n",
       "      <th>Age</th>\n",
       "      <th>Gender</th>\n",
       "      <th>Profession</th>\n",
       "      <th>Location</th>\n",
       "    </tr>\n",
       "  </thead>\n",
       "  <tbody>\n",
       "    <tr>\n",
       "      <th>0</th>\n",
       "      <td>Arun</td>\n",
       "      <td>25.0</td>\n",
       "      <td>Male</td>\n",
       "      <td>Engineer</td>\n",
       "      <td>Chennai</td>\n",
       "    </tr>\n",
       "    <tr>\n",
       "      <th>1</th>\n",
       "      <td>Vijay</td>\n",
       "      <td>20.0</td>\n",
       "      <td>Male</td>\n",
       "      <td>Doctor</td>\n",
       "      <td>Bangalore</td>\n",
       "    </tr>\n",
       "    <tr>\n",
       "      <th>2</th>\n",
       "      <td>Priya</td>\n",
       "      <td>18.0</td>\n",
       "      <td>Female</td>\n",
       "      <td>Teacher</td>\n",
       "      <td>Mumabai</td>\n",
       "    </tr>\n",
       "    <tr>\n",
       "      <th>3</th>\n",
       "      <td>Kumar</td>\n",
       "      <td>19.0</td>\n",
       "      <td>Male ee</td>\n",
       "      <td>Scientist</td>\n",
       "      <td>Delhi</td>\n",
       "    </tr>\n",
       "    <tr>\n",
       "      <th>4</th>\n",
       "      <td>Selvi</td>\n",
       "      <td>35.0</td>\n",
       "      <td>Female</td>\n",
       "      <td>Business</td>\n",
       "      <td>Madurai</td>\n",
       "    </tr>\n",
       "  </tbody>\n",
       "</table>\n",
       "</div>"
      ],
      "text/plain": [
       "    Name   Age   Gender Profession   Location\n",
       "0   Arun  25.0     Male   Engineer    Chennai\n",
       "1  Vijay  20.0     Male     Doctor  Bangalore\n",
       "2  Priya  18.0   Female    Teacher    Mumabai\n",
       "3  Kumar  19.0  Male ee  Scientist      Delhi\n",
       "4  Selvi  35.0   Female   Business    Madurai"
      ]
     },
     "execution_count": 59,
     "metadata": {},
     "output_type": "execute_result"
    }
   ],
   "source": [
    "df.head()   #df.head(7)"
   ]
  },
  {
   "cell_type": "markdown",
   "id": "e2adcc96-e329-40d8-92d2-d3447dad9d24",
   "metadata": {},
   "source": [
    "## Display last 5 rows of a DataFrame"
   ]
  },
  {
   "cell_type": "code",
   "execution_count": 60,
   "id": "0e8f54e1-8834-4e65-9087-a645ec40211c",
   "metadata": {},
   "outputs": [
    {
     "data": {
      "text/html": [
       "<div>\n",
       "<style scoped>\n",
       "    .dataframe tbody tr th:only-of-type {\n",
       "        vertical-align: middle;\n",
       "    }\n",
       "\n",
       "    .dataframe tbody tr th {\n",
       "        vertical-align: top;\n",
       "    }\n",
       "\n",
       "    .dataframe thead th {\n",
       "        text-align: right;\n",
       "    }\n",
       "</style>\n",
       "<table border=\"1\" class=\"dataframe\">\n",
       "  <thead>\n",
       "    <tr style=\"text-align: right;\">\n",
       "      <th></th>\n",
       "      <th>Name</th>\n",
       "      <th>Age</th>\n",
       "      <th>Gender</th>\n",
       "      <th>Profession</th>\n",
       "      <th>Location</th>\n",
       "    </tr>\n",
       "  </thead>\n",
       "  <tbody>\n",
       "    <tr>\n",
       "      <th>5</th>\n",
       "      <td>Kalaiyarasan</td>\n",
       "      <td>23.0</td>\n",
       "      <td>Male ee</td>\n",
       "      <td>Engineer</td>\n",
       "      <td>Chennai</td>\n",
       "    </tr>\n",
       "    <tr>\n",
       "      <th>6</th>\n",
       "      <td>Sukumar</td>\n",
       "      <td>45.0</td>\n",
       "      <td>Male</td>\n",
       "      <td>Engineer</td>\n",
       "      <td>Bangalore</td>\n",
       "    </tr>\n",
       "    <tr>\n",
       "      <th>7</th>\n",
       "      <td>Vignesh</td>\n",
       "      <td>NaN</td>\n",
       "      <td>Male</td>\n",
       "      <td>Lawyer</td>\n",
       "      <td>Pune</td>\n",
       "    </tr>\n",
       "    <tr>\n",
       "      <th>8</th>\n",
       "      <td>Ramya</td>\n",
       "      <td>16.0</td>\n",
       "      <td>Female</td>\n",
       "      <td>Auditor</td>\n",
       "      <td>Chennai</td>\n",
       "    </tr>\n",
       "    <tr>\n",
       "      <th>9</th>\n",
       "      <td>Muthu</td>\n",
       "      <td>40.0</td>\n",
       "      <td>Male ee</td>\n",
       "      <td>Engineer</td>\n",
       "      <td>Trichy</td>\n",
       "    </tr>\n",
       "  </tbody>\n",
       "</table>\n",
       "</div>"
      ],
      "text/plain": [
       "           Name   Age   Gender Profession   Location\n",
       "5  Kalaiyarasan  23.0  Male ee   Engineer    Chennai\n",
       "6       Sukumar  45.0     Male   Engineer  Bangalore\n",
       "7       Vignesh   NaN     Male     Lawyer       Pune\n",
       "8         Ramya  16.0   Female    Auditor    Chennai\n",
       "9         Muthu  40.0  Male ee   Engineer     Trichy"
      ]
     },
     "execution_count": 60,
     "metadata": {},
     "output_type": "execute_result"
    }
   ],
   "source": [
    "df.tail() #df.tail(7)"
   ]
  },
  {
   "cell_type": "markdown",
   "id": "1c7a55e9-bff8-4218-baeb-e80c2039b8cf",
   "metadata": {},
   "source": [
    "## Get all the column names of a DataFrame"
   ]
  },
  {
   "cell_type": "code",
   "execution_count": 79,
   "id": "53fb1bc9-099c-4754-8697-e3c549b6b83a",
   "metadata": {},
   "outputs": [
    {
     "data": {
      "text/plain": [
       "['Name', 'Age', 'Gender', 'Profession', 'Location']"
      ]
     },
     "execution_count": 79,
     "metadata": {},
     "output_type": "execute_result"
    }
   ],
   "source": [
    "df.columns.to_list()"
   ]
  },
  {
   "cell_type": "markdown",
   "id": "82398084-4319-4bfd-becc-8e5b65006e0b",
   "metadata": {},
   "source": [
    "## Get all the row indexes of a DataFrame"
   ]
  },
  {
   "cell_type": "code",
   "execution_count": 62,
   "id": "b6b959a3-3f97-4924-804e-1f402ab031c5",
   "metadata": {},
   "outputs": [
    {
     "data": {
      "text/plain": [
       "[0, 1, 2, 3, 4, 5, 6, 7, 8, 9]"
      ]
     },
     "execution_count": 62,
     "metadata": {},
     "output_type": "execute_result"
    }
   ],
   "source": [
    "df.index.to_list()"
   ]
  },
  {
   "cell_type": "markdown",
   "id": "32e7bab8-f1fb-4484-8eea-4ec6dede395e",
   "metadata": {},
   "source": [
    "## Get specific column as a Series"
   ]
  },
  {
   "cell_type": "code",
   "execution_count": 63,
   "id": "bf7b0457-0494-42bb-8fae-07d568fb20f4",
   "metadata": {},
   "outputs": [
    {
     "data": {
      "text/plain": [
       "0            Arun\n",
       "1           Vijay\n",
       "2           Priya\n",
       "3           Kumar\n",
       "4           Selvi\n",
       "5    Kalaiyarasan\n",
       "6         Sukumar\n",
       "7         Vignesh\n",
       "8           Ramya\n",
       "9           Muthu\n",
       "Name: Name, dtype: object"
      ]
     },
     "execution_count": 63,
     "metadata": {},
     "output_type": "execute_result"
    }
   ],
   "source": [
    "df['Name']   #df.Name"
   ]
  },
  {
   "cell_type": "code",
   "execution_count": 64,
   "id": "2ec6c95f-5a47-4f6c-a243-21f6757767b8",
   "metadata": {},
   "outputs": [
    {
     "data": {
      "text/plain": [
       "pandas.core.series.Series"
      ]
     },
     "execution_count": 64,
     "metadata": {},
     "output_type": "execute_result"
    }
   ],
   "source": [
    "type(df['Name'])"
   ]
  },
  {
   "cell_type": "markdown",
   "id": "a788c504-ddbd-401f-9591-b6fe88b32905",
   "metadata": {},
   "source": [
    "## Filter DataFrame with specific set of columns - Example #1"
   ]
  },
  {
   "cell_type": "code",
   "execution_count": 67,
   "id": "6e1e53f7-a453-4a5f-9d08-d57cfacd9e04",
   "metadata": {},
   "outputs": [
    {
     "data": {
      "text/html": [
       "<div>\n",
       "<style scoped>\n",
       "    .dataframe tbody tr th:only-of-type {\n",
       "        vertical-align: middle;\n",
       "    }\n",
       "\n",
       "    .dataframe tbody tr th {\n",
       "        vertical-align: top;\n",
       "    }\n",
       "\n",
       "    .dataframe thead th {\n",
       "        text-align: right;\n",
       "    }\n",
       "</style>\n",
       "<table border=\"1\" class=\"dataframe\">\n",
       "  <thead>\n",
       "    <tr style=\"text-align: right;\">\n",
       "      <th></th>\n",
       "      <th>Name</th>\n",
       "      <th>Age</th>\n",
       "    </tr>\n",
       "  </thead>\n",
       "  <tbody>\n",
       "    <tr>\n",
       "      <th>0</th>\n",
       "      <td>Arun</td>\n",
       "      <td>25.0</td>\n",
       "    </tr>\n",
       "    <tr>\n",
       "      <th>1</th>\n",
       "      <td>Vijay</td>\n",
       "      <td>20.0</td>\n",
       "    </tr>\n",
       "    <tr>\n",
       "      <th>2</th>\n",
       "      <td>Priya</td>\n",
       "      <td>18.0</td>\n",
       "    </tr>\n",
       "    <tr>\n",
       "      <th>3</th>\n",
       "      <td>Kumar</td>\n",
       "      <td>19.0</td>\n",
       "    </tr>\n",
       "    <tr>\n",
       "      <th>4</th>\n",
       "      <td>Selvi</td>\n",
       "      <td>35.0</td>\n",
       "    </tr>\n",
       "    <tr>\n",
       "      <th>5</th>\n",
       "      <td>Kalaiyarasan</td>\n",
       "      <td>23.0</td>\n",
       "    </tr>\n",
       "    <tr>\n",
       "      <th>6</th>\n",
       "      <td>Sukumar</td>\n",
       "      <td>45.0</td>\n",
       "    </tr>\n",
       "    <tr>\n",
       "      <th>7</th>\n",
       "      <td>Vignesh</td>\n",
       "      <td>NaN</td>\n",
       "    </tr>\n",
       "    <tr>\n",
       "      <th>8</th>\n",
       "      <td>Ramya</td>\n",
       "      <td>16.0</td>\n",
       "    </tr>\n",
       "    <tr>\n",
       "      <th>9</th>\n",
       "      <td>Muthu</td>\n",
       "      <td>40.0</td>\n",
       "    </tr>\n",
       "  </tbody>\n",
       "</table>\n",
       "</div>"
      ],
      "text/plain": [
       "           Name   Age\n",
       "0          Arun  25.0\n",
       "1         Vijay  20.0\n",
       "2         Priya  18.0\n",
       "3         Kumar  19.0\n",
       "4         Selvi  35.0\n",
       "5  Kalaiyarasan  23.0\n",
       "6       Sukumar  45.0\n",
       "7       Vignesh   NaN\n",
       "8         Ramya  16.0\n",
       "9         Muthu  40.0"
      ]
     },
     "execution_count": 67,
     "metadata": {},
     "output_type": "execute_result"
    }
   ],
   "source": [
    "df[['Name','Age']]"
   ]
  },
  {
   "cell_type": "code",
   "execution_count": 68,
   "id": "14aac4a5-0311-4b00-a754-e1918b019aee",
   "metadata": {},
   "outputs": [
    {
     "data": {
      "text/plain": [
       "pandas.core.frame.DataFrame"
      ]
     },
     "execution_count": 68,
     "metadata": {},
     "output_type": "execute_result"
    }
   ],
   "source": [
    "type(df[['Name', 'Age']])"
   ]
  },
  {
   "cell_type": "markdown",
   "id": "e035c000-c02d-450f-93e1-13104a4eaa05",
   "metadata": {},
   "source": [
    "## Filter DataFrame with specific set of columns - Example #2"
   ]
  },
  {
   "cell_type": "code",
   "execution_count": 69,
   "id": "ce4bd3bb-aa4e-4482-88cc-d96b71081f78",
   "metadata": {},
   "outputs": [
    {
     "data": {
      "text/html": [
       "<div>\n",
       "<style scoped>\n",
       "    .dataframe tbody tr th:only-of-type {\n",
       "        vertical-align: middle;\n",
       "    }\n",
       "\n",
       "    .dataframe tbody tr th {\n",
       "        vertical-align: top;\n",
       "    }\n",
       "\n",
       "    .dataframe thead th {\n",
       "        text-align: right;\n",
       "    }\n",
       "</style>\n",
       "<table border=\"1\" class=\"dataframe\">\n",
       "  <thead>\n",
       "    <tr style=\"text-align: right;\">\n",
       "      <th></th>\n",
       "      <th>Name</th>\n",
       "      <th>Age</th>\n",
       "    </tr>\n",
       "  </thead>\n",
       "  <tbody>\n",
       "    <tr>\n",
       "      <th>0</th>\n",
       "      <td>Arun</td>\n",
       "      <td>25.0</td>\n",
       "    </tr>\n",
       "    <tr>\n",
       "      <th>1</th>\n",
       "      <td>Vijay</td>\n",
       "      <td>20.0</td>\n",
       "    </tr>\n",
       "    <tr>\n",
       "      <th>2</th>\n",
       "      <td>Priya</td>\n",
       "      <td>18.0</td>\n",
       "    </tr>\n",
       "    <tr>\n",
       "      <th>3</th>\n",
       "      <td>Kumar</td>\n",
       "      <td>19.0</td>\n",
       "    </tr>\n",
       "    <tr>\n",
       "      <th>4</th>\n",
       "      <td>Selvi</td>\n",
       "      <td>35.0</td>\n",
       "    </tr>\n",
       "    <tr>\n",
       "      <th>5</th>\n",
       "      <td>Kalaiyarasan</td>\n",
       "      <td>23.0</td>\n",
       "    </tr>\n",
       "    <tr>\n",
       "      <th>6</th>\n",
       "      <td>Sukumar</td>\n",
       "      <td>45.0</td>\n",
       "    </tr>\n",
       "    <tr>\n",
       "      <th>7</th>\n",
       "      <td>Vignesh</td>\n",
       "      <td>NaN</td>\n",
       "    </tr>\n",
       "    <tr>\n",
       "      <th>8</th>\n",
       "      <td>Ramya</td>\n",
       "      <td>16.0</td>\n",
       "    </tr>\n",
       "    <tr>\n",
       "      <th>9</th>\n",
       "      <td>Muthu</td>\n",
       "      <td>40.0</td>\n",
       "    </tr>\n",
       "  </tbody>\n",
       "</table>\n",
       "</div>"
      ],
      "text/plain": [
       "           Name   Age\n",
       "0          Arun  25.0\n",
       "1         Vijay  20.0\n",
       "2         Priya  18.0\n",
       "3         Kumar  19.0\n",
       "4         Selvi  35.0\n",
       "5  Kalaiyarasan  23.0\n",
       "6       Sukumar  45.0\n",
       "7       Vignesh   NaN\n",
       "8         Ramya  16.0\n",
       "9         Muthu  40.0"
      ]
     },
     "execution_count": 69,
     "metadata": {},
     "output_type": "execute_result"
    }
   ],
   "source": [
    "df.drop(['Profession','Location', 'Gender'], axis=1)"
   ]
  },
  {
   "cell_type": "markdown",
   "id": "4e384f97-5cd0-4f01-b27a-48781857f91d",
   "metadata": {},
   "source": [
    "## Creating a DataFrame with one Colume"
   ]
  },
  {
   "cell_type": "code",
   "execution_count": 70,
   "id": "928079b2-b05e-4e1e-a3db-e2877986e794",
   "metadata": {},
   "outputs": [
    {
     "data": {
      "text/html": [
       "<div>\n",
       "<style scoped>\n",
       "    .dataframe tbody tr th:only-of-type {\n",
       "        vertical-align: middle;\n",
       "    }\n",
       "\n",
       "    .dataframe tbody tr th {\n",
       "        vertical-align: top;\n",
       "    }\n",
       "\n",
       "    .dataframe thead th {\n",
       "        text-align: right;\n",
       "    }\n",
       "</style>\n",
       "<table border=\"1\" class=\"dataframe\">\n",
       "  <thead>\n",
       "    <tr style=\"text-align: right;\">\n",
       "      <th></th>\n",
       "      <th>Email</th>\n",
       "    </tr>\n",
       "  </thead>\n",
       "  <tbody>\n",
       "    <tr>\n",
       "      <th>0</th>\n",
       "      <td>arun@mail.com</td>\n",
       "    </tr>\n",
       "    <tr>\n",
       "      <th>1</th>\n",
       "      <td>vijay@mail.com</td>\n",
       "    </tr>\n",
       "    <tr>\n",
       "      <th>2</th>\n",
       "      <td>priya@mail.com</td>\n",
       "    </tr>\n",
       "    <tr>\n",
       "      <th>3</th>\n",
       "      <td>kumar@mail.com</td>\n",
       "    </tr>\n",
       "    <tr>\n",
       "      <th>4</th>\n",
       "      <td>selvi@mail.com</td>\n",
       "    </tr>\n",
       "    <tr>\n",
       "      <th>5</th>\n",
       "      <td>kalaiyarasan@mail.com</td>\n",
       "    </tr>\n",
       "    <tr>\n",
       "      <th>6</th>\n",
       "      <td>sukumar@mail.com</td>\n",
       "    </tr>\n",
       "    <tr>\n",
       "      <th>7</th>\n",
       "      <td>vignesh@mail.com</td>\n",
       "    </tr>\n",
       "    <tr>\n",
       "      <th>8</th>\n",
       "      <td>ramya@mail.com</td>\n",
       "    </tr>\n",
       "    <tr>\n",
       "      <th>9</th>\n",
       "      <td>muthu@mail.com</td>\n",
       "    </tr>\n",
       "  </tbody>\n",
       "</table>\n",
       "</div>"
      ],
      "text/plain": [
       "                   Email\n",
       "0          arun@mail.com\n",
       "1         vijay@mail.com\n",
       "2         priya@mail.com\n",
       "3         kumar@mail.com\n",
       "4         selvi@mail.com\n",
       "5  kalaiyarasan@mail.com\n",
       "6       sukumar@mail.com\n",
       "7       vignesh@mail.com\n",
       "8         ramya@mail.com\n",
       "9         muthu@mail.com"
      ]
     },
     "execution_count": 70,
     "metadata": {},
     "output_type": "execute_result"
    }
   ],
   "source": [
    "df1 = pd.DataFrame({\n",
    "    'Email': ['arun@mail.com', 'vijay@mail.com', 'priya@mail.com', 'kumar@mail.com', 'selvi@mail.com', 'kalaiyarasan@mail.com',\n",
    "              'sukumar@mail.com', 'vignesh@mail.com', 'ramya@mail.com', 'muthu@mail.com']\n",
    "})\n",
    "df1"
   ]
  },
  {
   "cell_type": "markdown",
   "id": "98b43086-5f05-4698-9321-7746e9be039f",
   "metadata": {},
   "source": [
    "## Merge multiple DataFrames  (column-wise)"
   ]
  },
  {
   "cell_type": "code",
   "execution_count": 71,
   "id": "6ea78e86-4783-43ef-909b-aec139cedae9",
   "metadata": {},
   "outputs": [
    {
     "data": {
      "text/html": [
       "<div>\n",
       "<style scoped>\n",
       "    .dataframe tbody tr th:only-of-type {\n",
       "        vertical-align: middle;\n",
       "    }\n",
       "\n",
       "    .dataframe tbody tr th {\n",
       "        vertical-align: top;\n",
       "    }\n",
       "\n",
       "    .dataframe thead th {\n",
       "        text-align: right;\n",
       "    }\n",
       "</style>\n",
       "<table border=\"1\" class=\"dataframe\">\n",
       "  <thead>\n",
       "    <tr style=\"text-align: right;\">\n",
       "      <th></th>\n",
       "      <th>Name</th>\n",
       "      <th>Age</th>\n",
       "      <th>Gender</th>\n",
       "      <th>Profession</th>\n",
       "      <th>Location</th>\n",
       "      <th>Email</th>\n",
       "    </tr>\n",
       "  </thead>\n",
       "  <tbody>\n",
       "    <tr>\n",
       "      <th>0</th>\n",
       "      <td>Arun</td>\n",
       "      <td>25.0</td>\n",
       "      <td>Male</td>\n",
       "      <td>Engineer</td>\n",
       "      <td>Chennai</td>\n",
       "      <td>arun@mail.com</td>\n",
       "    </tr>\n",
       "    <tr>\n",
       "      <th>1</th>\n",
       "      <td>Vijay</td>\n",
       "      <td>20.0</td>\n",
       "      <td>Male</td>\n",
       "      <td>Doctor</td>\n",
       "      <td>Bangalore</td>\n",
       "      <td>vijay@mail.com</td>\n",
       "    </tr>\n",
       "    <tr>\n",
       "      <th>2</th>\n",
       "      <td>Priya</td>\n",
       "      <td>18.0</td>\n",
       "      <td>Female</td>\n",
       "      <td>Teacher</td>\n",
       "      <td>Mumabai</td>\n",
       "      <td>priya@mail.com</td>\n",
       "    </tr>\n",
       "    <tr>\n",
       "      <th>3</th>\n",
       "      <td>Kumar</td>\n",
       "      <td>19.0</td>\n",
       "      <td>Male ee</td>\n",
       "      <td>Scientist</td>\n",
       "      <td>Delhi</td>\n",
       "      <td>kumar@mail.com</td>\n",
       "    </tr>\n",
       "    <tr>\n",
       "      <th>4</th>\n",
       "      <td>Selvi</td>\n",
       "      <td>35.0</td>\n",
       "      <td>Female</td>\n",
       "      <td>Business</td>\n",
       "      <td>Madurai</td>\n",
       "      <td>selvi@mail.com</td>\n",
       "    </tr>\n",
       "    <tr>\n",
       "      <th>5</th>\n",
       "      <td>Kalaiyarasan</td>\n",
       "      <td>23.0</td>\n",
       "      <td>Male ee</td>\n",
       "      <td>Engineer</td>\n",
       "      <td>Chennai</td>\n",
       "      <td>kalaiyarasan@mail.com</td>\n",
       "    </tr>\n",
       "    <tr>\n",
       "      <th>6</th>\n",
       "      <td>Sukumar</td>\n",
       "      <td>45.0</td>\n",
       "      <td>Male</td>\n",
       "      <td>Engineer</td>\n",
       "      <td>Bangalore</td>\n",
       "      <td>sukumar@mail.com</td>\n",
       "    </tr>\n",
       "    <tr>\n",
       "      <th>7</th>\n",
       "      <td>Vignesh</td>\n",
       "      <td>NaN</td>\n",
       "      <td>Male</td>\n",
       "      <td>Lawyer</td>\n",
       "      <td>Pune</td>\n",
       "      <td>vignesh@mail.com</td>\n",
       "    </tr>\n",
       "    <tr>\n",
       "      <th>8</th>\n",
       "      <td>Ramya</td>\n",
       "      <td>16.0</td>\n",
       "      <td>Female</td>\n",
       "      <td>Auditor</td>\n",
       "      <td>Chennai</td>\n",
       "      <td>ramya@mail.com</td>\n",
       "    </tr>\n",
       "    <tr>\n",
       "      <th>9</th>\n",
       "      <td>Muthu</td>\n",
       "      <td>40.0</td>\n",
       "      <td>Male ee</td>\n",
       "      <td>Engineer</td>\n",
       "      <td>Trichy</td>\n",
       "      <td>muthu@mail.com</td>\n",
       "    </tr>\n",
       "  </tbody>\n",
       "</table>\n",
       "</div>"
      ],
      "text/plain": [
       "           Name   Age   Gender Profession   Location                  Email\n",
       "0          Arun  25.0     Male   Engineer    Chennai          arun@mail.com\n",
       "1         Vijay  20.0     Male     Doctor  Bangalore         vijay@mail.com\n",
       "2         Priya  18.0   Female    Teacher    Mumabai         priya@mail.com\n",
       "3         Kumar  19.0  Male ee  Scientist      Delhi         kumar@mail.com\n",
       "4         Selvi  35.0   Female   Business    Madurai         selvi@mail.com\n",
       "5  Kalaiyarasan  23.0  Male ee   Engineer    Chennai  kalaiyarasan@mail.com\n",
       "6       Sukumar  45.0     Male   Engineer  Bangalore       sukumar@mail.com\n",
       "7       Vignesh   NaN     Male     Lawyer       Pune       vignesh@mail.com\n",
       "8         Ramya  16.0   Female    Auditor    Chennai         ramya@mail.com\n",
       "9         Muthu  40.0  Male ee   Engineer     Trichy         muthu@mail.com"
      ]
     },
     "execution_count": 71,
     "metadata": {},
     "output_type": "execute_result"
    }
   ],
   "source": [
    "df_updated = pd.concat([df,df1], axis=1)\n",
    "df_updated"
   ]
  },
  {
   "cell_type": "markdown",
   "id": "a326ff6b-a452-4a43-939a-12fb101748a6",
   "metadata": {},
   "source": [
    "## Rename column names"
   ]
  },
  {
   "cell_type": "code",
   "execution_count": 72,
   "id": "a2d01231-4619-4a7a-9180-d2670b1abce1",
   "metadata": {},
   "outputs": [
    {
     "data": {
      "text/html": [
       "<div>\n",
       "<style scoped>\n",
       "    .dataframe tbody tr th:only-of-type {\n",
       "        vertical-align: middle;\n",
       "    }\n",
       "\n",
       "    .dataframe tbody tr th {\n",
       "        vertical-align: top;\n",
       "    }\n",
       "\n",
       "    .dataframe thead th {\n",
       "        text-align: right;\n",
       "    }\n",
       "</style>\n",
       "<table border=\"1\" class=\"dataframe\">\n",
       "  <thead>\n",
       "    <tr style=\"text-align: right;\">\n",
       "      <th></th>\n",
       "      <th>Name</th>\n",
       "      <th>Age</th>\n",
       "      <th>Gender</th>\n",
       "      <th>Profession</th>\n",
       "      <th>City</th>\n",
       "      <th>Email</th>\n",
       "    </tr>\n",
       "  </thead>\n",
       "  <tbody>\n",
       "    <tr>\n",
       "      <th>0</th>\n",
       "      <td>Arun</td>\n",
       "      <td>25.0</td>\n",
       "      <td>Male</td>\n",
       "      <td>Engineer</td>\n",
       "      <td>Chennai</td>\n",
       "      <td>arun@mail.com</td>\n",
       "    </tr>\n",
       "    <tr>\n",
       "      <th>1</th>\n",
       "      <td>Vijay</td>\n",
       "      <td>20.0</td>\n",
       "      <td>Male</td>\n",
       "      <td>Doctor</td>\n",
       "      <td>Bangalore</td>\n",
       "      <td>vijay@mail.com</td>\n",
       "    </tr>\n",
       "    <tr>\n",
       "      <th>2</th>\n",
       "      <td>Priya</td>\n",
       "      <td>18.0</td>\n",
       "      <td>Female</td>\n",
       "      <td>Teacher</td>\n",
       "      <td>Mumabai</td>\n",
       "      <td>priya@mail.com</td>\n",
       "    </tr>\n",
       "    <tr>\n",
       "      <th>3</th>\n",
       "      <td>Kumar</td>\n",
       "      <td>19.0</td>\n",
       "      <td>Male ee</td>\n",
       "      <td>Scientist</td>\n",
       "      <td>Delhi</td>\n",
       "      <td>kumar@mail.com</td>\n",
       "    </tr>\n",
       "    <tr>\n",
       "      <th>4</th>\n",
       "      <td>Selvi</td>\n",
       "      <td>35.0</td>\n",
       "      <td>Female</td>\n",
       "      <td>Business</td>\n",
       "      <td>Madurai</td>\n",
       "      <td>selvi@mail.com</td>\n",
       "    </tr>\n",
       "    <tr>\n",
       "      <th>5</th>\n",
       "      <td>Kalaiyarasan</td>\n",
       "      <td>23.0</td>\n",
       "      <td>Male ee</td>\n",
       "      <td>Engineer</td>\n",
       "      <td>Chennai</td>\n",
       "      <td>kalaiyarasan@mail.com</td>\n",
       "    </tr>\n",
       "    <tr>\n",
       "      <th>6</th>\n",
       "      <td>Sukumar</td>\n",
       "      <td>45.0</td>\n",
       "      <td>Male</td>\n",
       "      <td>Engineer</td>\n",
       "      <td>Bangalore</td>\n",
       "      <td>sukumar@mail.com</td>\n",
       "    </tr>\n",
       "    <tr>\n",
       "      <th>7</th>\n",
       "      <td>Vignesh</td>\n",
       "      <td>NaN</td>\n",
       "      <td>Male</td>\n",
       "      <td>Lawyer</td>\n",
       "      <td>Pune</td>\n",
       "      <td>vignesh@mail.com</td>\n",
       "    </tr>\n",
       "    <tr>\n",
       "      <th>8</th>\n",
       "      <td>Ramya</td>\n",
       "      <td>16.0</td>\n",
       "      <td>Female</td>\n",
       "      <td>Auditor</td>\n",
       "      <td>Chennai</td>\n",
       "      <td>ramya@mail.com</td>\n",
       "    </tr>\n",
       "    <tr>\n",
       "      <th>9</th>\n",
       "      <td>Muthu</td>\n",
       "      <td>40.0</td>\n",
       "      <td>Male ee</td>\n",
       "      <td>Engineer</td>\n",
       "      <td>Trichy</td>\n",
       "      <td>muthu@mail.com</td>\n",
       "    </tr>\n",
       "  </tbody>\n",
       "</table>\n",
       "</div>"
      ],
      "text/plain": [
       "           Name   Age   Gender Profession       City                  Email\n",
       "0          Arun  25.0     Male   Engineer    Chennai          arun@mail.com\n",
       "1         Vijay  20.0     Male     Doctor  Bangalore         vijay@mail.com\n",
       "2         Priya  18.0   Female    Teacher    Mumabai         priya@mail.com\n",
       "3         Kumar  19.0  Male ee  Scientist      Delhi         kumar@mail.com\n",
       "4         Selvi  35.0   Female   Business    Madurai         selvi@mail.com\n",
       "5  Kalaiyarasan  23.0  Male ee   Engineer    Chennai  kalaiyarasan@mail.com\n",
       "6       Sukumar  45.0     Male   Engineer  Bangalore       sukumar@mail.com\n",
       "7       Vignesh   NaN     Male     Lawyer       Pune       vignesh@mail.com\n",
       "8         Ramya  16.0   Female    Auditor    Chennai         ramya@mail.com\n",
       "9         Muthu  40.0  Male ee   Engineer     Trichy         muthu@mail.com"
      ]
     },
     "execution_count": 72,
     "metadata": {},
     "output_type": "execute_result"
    }
   ],
   "source": [
    "df_updated.rename(columns={'Location':'City'})"
   ]
  },
  {
   "cell_type": "markdown",
   "id": "16ba1024-3f31-4633-8c28-d1213725571e",
   "metadata": {},
   "source": [
    "## Get minimum value of a column"
   ]
  },
  {
   "cell_type": "code",
   "execution_count": 73,
   "id": "e2cc8727-c314-4615-8065-d06faca844c4",
   "metadata": {},
   "outputs": [
    {
     "data": {
      "text/plain": [
       "np.float64(16.0)"
      ]
     },
     "execution_count": 73,
     "metadata": {},
     "output_type": "execute_result"
    }
   ],
   "source": [
    "df_updated['Age'].min()"
   ]
  },
  {
   "cell_type": "markdown",
   "id": "063c73dc-0203-4515-a71a-e9ae6e8df788",
   "metadata": {},
   "source": [
    "## Get maximum value of a column"
   ]
  },
  {
   "cell_type": "code",
   "execution_count": 74,
   "id": "43f2fcba-3643-44c9-ab09-a7e32ba38117",
   "metadata": {},
   "outputs": [
    {
     "data": {
      "text/plain": [
       "np.float64(45.0)"
      ]
     },
     "execution_count": 74,
     "metadata": {},
     "output_type": "execute_result"
    }
   ],
   "source": [
    "df_updated['Age'].max()"
   ]
  },
  {
   "cell_type": "markdown",
   "id": "bdc72a22-8959-437c-94e1-5b45f923a5b3",
   "metadata": {},
   "source": [
    "## Get mean value of a column"
   ]
  },
  {
   "cell_type": "code",
   "execution_count": 75,
   "id": "3c86b784-1822-4cd6-992e-36367de2c74b",
   "metadata": {},
   "outputs": [
    {
     "data": {
      "text/plain": [
       "np.int64(26)"
      ]
     },
     "execution_count": 75,
     "metadata": {},
     "output_type": "execute_result"
    }
   ],
   "source": [
    "average_age = df_updated['Age'].mean().astype(int)\n",
    "average_age"
   ]
  },
  {
   "cell_type": "markdown",
   "id": "5097d4e1-e34d-4b77-be8c-6414e9778308",
   "metadata": {},
   "source": [
    "## Replace NULL values with a specific value "
   ]
  },
  {
   "cell_type": "code",
   "execution_count": 76,
   "id": "35eb0520-407d-40f5-a55e-c18c48b2ab33",
   "metadata": {},
   "outputs": [
    {
     "data": {
      "text/html": [
       "<div>\n",
       "<style scoped>\n",
       "    .dataframe tbody tr th:only-of-type {\n",
       "        vertical-align: middle;\n",
       "    }\n",
       "\n",
       "    .dataframe tbody tr th {\n",
       "        vertical-align: top;\n",
       "    }\n",
       "\n",
       "    .dataframe thead th {\n",
       "        text-align: right;\n",
       "    }\n",
       "</style>\n",
       "<table border=\"1\" class=\"dataframe\">\n",
       "  <thead>\n",
       "    <tr style=\"text-align: right;\">\n",
       "      <th></th>\n",
       "      <th>Name</th>\n",
       "      <th>Age</th>\n",
       "      <th>Gender</th>\n",
       "      <th>Profession</th>\n",
       "      <th>Location</th>\n",
       "      <th>Email</th>\n",
       "    </tr>\n",
       "  </thead>\n",
       "  <tbody>\n",
       "    <tr>\n",
       "      <th>0</th>\n",
       "      <td>Arun</td>\n",
       "      <td>25.0</td>\n",
       "      <td>Male</td>\n",
       "      <td>Engineer</td>\n",
       "      <td>Chennai</td>\n",
       "      <td>arun@mail.com</td>\n",
       "    </tr>\n",
       "    <tr>\n",
       "      <th>1</th>\n",
       "      <td>Vijay</td>\n",
       "      <td>20.0</td>\n",
       "      <td>Male</td>\n",
       "      <td>Doctor</td>\n",
       "      <td>Bangalore</td>\n",
       "      <td>vijay@mail.com</td>\n",
       "    </tr>\n",
       "    <tr>\n",
       "      <th>2</th>\n",
       "      <td>Priya</td>\n",
       "      <td>18.0</td>\n",
       "      <td>Female</td>\n",
       "      <td>Teacher</td>\n",
       "      <td>Mumabai</td>\n",
       "      <td>priya@mail.com</td>\n",
       "    </tr>\n",
       "    <tr>\n",
       "      <th>3</th>\n",
       "      <td>Kumar</td>\n",
       "      <td>19.0</td>\n",
       "      <td>Male ee</td>\n",
       "      <td>Scientist</td>\n",
       "      <td>Delhi</td>\n",
       "      <td>kumar@mail.com</td>\n",
       "    </tr>\n",
       "    <tr>\n",
       "      <th>4</th>\n",
       "      <td>Selvi</td>\n",
       "      <td>35.0</td>\n",
       "      <td>Female</td>\n",
       "      <td>Business</td>\n",
       "      <td>Madurai</td>\n",
       "      <td>selvi@mail.com</td>\n",
       "    </tr>\n",
       "    <tr>\n",
       "      <th>5</th>\n",
       "      <td>Kalaiyarasan</td>\n",
       "      <td>23.0</td>\n",
       "      <td>Male ee</td>\n",
       "      <td>Engineer</td>\n",
       "      <td>Chennai</td>\n",
       "      <td>kalaiyarasan@mail.com</td>\n",
       "    </tr>\n",
       "    <tr>\n",
       "      <th>6</th>\n",
       "      <td>Sukumar</td>\n",
       "      <td>45.0</td>\n",
       "      <td>Male</td>\n",
       "      <td>Engineer</td>\n",
       "      <td>Bangalore</td>\n",
       "      <td>sukumar@mail.com</td>\n",
       "    </tr>\n",
       "    <tr>\n",
       "      <th>7</th>\n",
       "      <td>Vignesh</td>\n",
       "      <td>26.0</td>\n",
       "      <td>Male</td>\n",
       "      <td>Lawyer</td>\n",
       "      <td>Pune</td>\n",
       "      <td>vignesh@mail.com</td>\n",
       "    </tr>\n",
       "    <tr>\n",
       "      <th>8</th>\n",
       "      <td>Ramya</td>\n",
       "      <td>16.0</td>\n",
       "      <td>Female</td>\n",
       "      <td>Auditor</td>\n",
       "      <td>Chennai</td>\n",
       "      <td>ramya@mail.com</td>\n",
       "    </tr>\n",
       "    <tr>\n",
       "      <th>9</th>\n",
       "      <td>Muthu</td>\n",
       "      <td>40.0</td>\n",
       "      <td>Male ee</td>\n",
       "      <td>Engineer</td>\n",
       "      <td>Trichy</td>\n",
       "      <td>muthu@mail.com</td>\n",
       "    </tr>\n",
       "  </tbody>\n",
       "</table>\n",
       "</div>"
      ],
      "text/plain": [
       "           Name   Age   Gender Profession   Location                  Email\n",
       "0          Arun  25.0     Male   Engineer    Chennai          arun@mail.com\n",
       "1         Vijay  20.0     Male     Doctor  Bangalore         vijay@mail.com\n",
       "2         Priya  18.0   Female    Teacher    Mumabai         priya@mail.com\n",
       "3         Kumar  19.0  Male ee  Scientist      Delhi         kumar@mail.com\n",
       "4         Selvi  35.0   Female   Business    Madurai         selvi@mail.com\n",
       "5  Kalaiyarasan  23.0  Male ee   Engineer    Chennai  kalaiyarasan@mail.com\n",
       "6       Sukumar  45.0     Male   Engineer  Bangalore       sukumar@mail.com\n",
       "7       Vignesh  26.0     Male     Lawyer       Pune       vignesh@mail.com\n",
       "8         Ramya  16.0   Female    Auditor    Chennai         ramya@mail.com\n",
       "9         Muthu  40.0  Male ee   Engineer     Trichy         muthu@mail.com"
      ]
     },
     "execution_count": 76,
     "metadata": {},
     "output_type": "execute_result"
    }
   ],
   "source": [
    "df_updated['Age'] = df_updated['Age'].fillna(average_age)\n",
    "df_updated"
   ]
  },
  {
   "cell_type": "markdown",
   "id": "3c888594-5a20-4cee-8e55-269817b6d899",
   "metadata": {},
   "source": [
    "## Process column values"
   ]
  },
  {
   "cell_type": "code",
   "execution_count": 77,
   "id": "4ac85356-d2b9-4842-a933-d7103a9f0d36",
   "metadata": {},
   "outputs": [
    {
     "data": {
      "text/html": [
       "<div>\n",
       "<style scoped>\n",
       "    .dataframe tbody tr th:only-of-type {\n",
       "        vertical-align: middle;\n",
       "    }\n",
       "\n",
       "    .dataframe tbody tr th {\n",
       "        vertical-align: top;\n",
       "    }\n",
       "\n",
       "    .dataframe thead th {\n",
       "        text-align: right;\n",
       "    }\n",
       "</style>\n",
       "<table border=\"1\" class=\"dataframe\">\n",
       "  <thead>\n",
       "    <tr style=\"text-align: right;\">\n",
       "      <th></th>\n",
       "      <th>Name</th>\n",
       "      <th>Age</th>\n",
       "      <th>Gender</th>\n",
       "      <th>Profession</th>\n",
       "      <th>Location</th>\n",
       "      <th>Email</th>\n",
       "    </tr>\n",
       "  </thead>\n",
       "  <tbody>\n",
       "    <tr>\n",
       "      <th>0</th>\n",
       "      <td>Arun</td>\n",
       "      <td>25.0</td>\n",
       "      <td>Male</td>\n",
       "      <td>Engineer</td>\n",
       "      <td>Chennai</td>\n",
       "      <td>arun@mail.com</td>\n",
       "    </tr>\n",
       "    <tr>\n",
       "      <th>1</th>\n",
       "      <td>Vijay</td>\n",
       "      <td>20.0</td>\n",
       "      <td>Male</td>\n",
       "      <td>Doctor</td>\n",
       "      <td>Bangalore</td>\n",
       "      <td>vijay@mail.com</td>\n",
       "    </tr>\n",
       "    <tr>\n",
       "      <th>2</th>\n",
       "      <td>Priya</td>\n",
       "      <td>18.0</td>\n",
       "      <td>Female</td>\n",
       "      <td>Teacher</td>\n",
       "      <td>Mumabai</td>\n",
       "      <td>priya@mail.com</td>\n",
       "    </tr>\n",
       "    <tr>\n",
       "      <th>3</th>\n",
       "      <td>Kumar</td>\n",
       "      <td>19.0</td>\n",
       "      <td>Male</td>\n",
       "      <td>Scientist</td>\n",
       "      <td>Delhi</td>\n",
       "      <td>kumar@mail.com</td>\n",
       "    </tr>\n",
       "    <tr>\n",
       "      <th>4</th>\n",
       "      <td>Selvi</td>\n",
       "      <td>35.0</td>\n",
       "      <td>Female</td>\n",
       "      <td>Business</td>\n",
       "      <td>Madurai</td>\n",
       "      <td>selvi@mail.com</td>\n",
       "    </tr>\n",
       "    <tr>\n",
       "      <th>5</th>\n",
       "      <td>Kalaiyarasan</td>\n",
       "      <td>23.0</td>\n",
       "      <td>Male</td>\n",
       "      <td>Engineer</td>\n",
       "      <td>Chennai</td>\n",
       "      <td>kalaiyarasan@mail.com</td>\n",
       "    </tr>\n",
       "    <tr>\n",
       "      <th>6</th>\n",
       "      <td>Sukumar</td>\n",
       "      <td>45.0</td>\n",
       "      <td>Male</td>\n",
       "      <td>Engineer</td>\n",
       "      <td>Bangalore</td>\n",
       "      <td>sukumar@mail.com</td>\n",
       "    </tr>\n",
       "    <tr>\n",
       "      <th>7</th>\n",
       "      <td>Vignesh</td>\n",
       "      <td>26.0</td>\n",
       "      <td>Male</td>\n",
       "      <td>Lawyer</td>\n",
       "      <td>Pune</td>\n",
       "      <td>vignesh@mail.com</td>\n",
       "    </tr>\n",
       "    <tr>\n",
       "      <th>8</th>\n",
       "      <td>Ramya</td>\n",
       "      <td>16.0</td>\n",
       "      <td>Female</td>\n",
       "      <td>Auditor</td>\n",
       "      <td>Chennai</td>\n",
       "      <td>ramya@mail.com</td>\n",
       "    </tr>\n",
       "    <tr>\n",
       "      <th>9</th>\n",
       "      <td>Muthu</td>\n",
       "      <td>40.0</td>\n",
       "      <td>Male</td>\n",
       "      <td>Engineer</td>\n",
       "      <td>Trichy</td>\n",
       "      <td>muthu@mail.com</td>\n",
       "    </tr>\n",
       "  </tbody>\n",
       "</table>\n",
       "</div>"
      ],
      "text/plain": [
       "           Name   Age  Gender Profession   Location                  Email\n",
       "0          Arun  25.0    Male   Engineer    Chennai          arun@mail.com\n",
       "1         Vijay  20.0    Male     Doctor  Bangalore         vijay@mail.com\n",
       "2         Priya  18.0  Female    Teacher    Mumabai         priya@mail.com\n",
       "3         Kumar  19.0    Male  Scientist      Delhi         kumar@mail.com\n",
       "4         Selvi  35.0  Female   Business    Madurai         selvi@mail.com\n",
       "5  Kalaiyarasan  23.0    Male   Engineer    Chennai  kalaiyarasan@mail.com\n",
       "6       Sukumar  45.0    Male   Engineer  Bangalore       sukumar@mail.com\n",
       "7       Vignesh  26.0    Male     Lawyer       Pune       vignesh@mail.com\n",
       "8         Ramya  16.0  Female    Auditor    Chennai         ramya@mail.com\n",
       "9         Muthu  40.0    Male   Engineer     Trichy         muthu@mail.com"
      ]
     },
     "execution_count": 77,
     "metadata": {},
     "output_type": "execute_result"
    }
   ],
   "source": [
    "def fix_gender_value(val):\n",
    "    val = val.split()[0]\n",
    "    return val\n",
    "df_updated['Gender'] = df_updated['Gender'].apply(fix_gender_value)\n",
    "df_updated"
   ]
  }
 ],
 "metadata": {
  "kernelspec": {
   "display_name": "Python 3 (ipykernel)",
   "language": "python",
   "name": "python3"
  },
  "language_info": {
   "codemirror_mode": {
    "name": "ipython",
    "version": 3
   },
   "file_extension": ".py",
   "mimetype": "text/x-python",
   "name": "python",
   "nbconvert_exporter": "python",
   "pygments_lexer": "ipython3",
   "version": "3.12.9"
  }
 },
 "nbformat": 4,
 "nbformat_minor": 5
}
